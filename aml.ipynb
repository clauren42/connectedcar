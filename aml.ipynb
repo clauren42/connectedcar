{
 "cells": [
  {
   "cell_type": "markdown",
   "metadata": {},
   "source": [
    "### Prepare Notebook "
   ]
  },
  {
   "cell_type": "code",
   "execution_count": 4,
   "metadata": {},
   "outputs": [
    {
     "name": "stdout",
     "output_type": "stream",
     "text": [
      "Requirement already satisfied: azureml[automl] in c:\\users\\clauren\\appdata\\roaming\\python\\python36\\site-packages (0.2.7)\n",
      "Requirement already satisfied: python-dateutil in c:\\users\\clauren\\.azureml\\envs\\myenv\\lib\\site-packages (from azureml[automl]) (2.7.3)\n",
      "Requirement already satisfied: pandas in c:\\users\\clauren\\.azureml\\envs\\myenv\\lib\\site-packages (from azureml[automl]) (0.23.4)\n",
      "Requirement already satisfied: requests in c:\\users\\clauren\\appdata\\roaming\\python\\python36\\site-packages (from azureml[automl]) (2.21.0)\n",
      "Requirement already satisfied: six>=1.5 in c:\\users\\clauren\\.azureml\\envs\\myenv\\lib\\site-packages (from python-dateutil->azureml[automl]) (1.11.0)\n",
      "Requirement already satisfied: pytz>=2011k in c:\\users\\clauren\\.azureml\\envs\\myenv\\lib\\site-packages (from pandas->azureml[automl]) (2018.5)\n",
      "Requirement already satisfied: numpy>=1.9.0 in c:\\users\\clauren\\.azureml\\envs\\myenv\\lib\\site-packages (from pandas->azureml[automl]) (1.14.5)\n",
      "Requirement already satisfied: urllib3<1.25,>=1.21.1 in c:\\users\\clauren\\appdata\\roaming\\python\\python36\\site-packages (from requests->azureml[automl]) (1.23)\n",
      "Requirement already satisfied: certifi>=2017.4.17 in c:\\users\\clauren\\.azureml\\envs\\myenv\\lib\\site-packages (from requests->azureml[automl]) (2018.11.29)\n",
      "Requirement already satisfied: chardet<3.1.0,>=3.0.2 in c:\\users\\clauren\\.azureml\\envs\\myenv\\lib\\site-packages (from requests->azureml[automl]) (3.0.4)\n",
      "Requirement already satisfied: idna<2.9,>=2.5 in c:\\users\\clauren\\.azureml\\envs\\myenv\\lib\\site-packages (from requests->azureml[automl]) (2.7)\n"
     ]
    },
    {
     "name": "stderr",
     "output_type": "stream",
     "text": [
      "  azureml 0.2.7 does not provide the extra 'automl'\n",
      "You are using pip version 19.0.1, however version 19.1 is available.\n",
      "You should consider upgrading via the 'python -m pip install --upgrade pip' command.\n"
     ]
    }
   ],
   "source": [
    "!pip install azureml[automl]"
   ]
  },
  {
   "cell_type": "code",
   "execution_count": 1,
   "metadata": {},
   "outputs": [],
   "source": [
    "demo_ip='52.183.42.101'\n",
    "subscription_id = '2a779d6f-0806-4359-a6e8-f1fd57bb5dd7'\n",
    "resource_group  = 'scottgu-all-hands'\n",
    "workspace_name  = 'contosomanufacturing'\n",
    "experiment_name = 'contoso-regression'\n",
    "project_folder = './contoso-regression'\n",
    "model_url = \"https://contosoautodatalake.dfs.core.windows.net/powerbi/AIDemos/AMLDataflow/model.json\"\n",
    "cluster_name = \"cpucluster\"\n",
    "aks_cluster_name = 'contoso-aks'\n",
    "aks_service_name ='contoso-service'\n",
    "run_id = 'AutoML_f5cb69ce-68ef-4fbe-bdfb-928d55601d10' "
   ]
  },
  {
   "cell_type": "markdown",
   "metadata": {},
   "source": [
    "# Predicting Automotive Failures with Automated Azure Machine Learning "
   ]
  },
  {
   "cell_type": "markdown",
   "metadata": {},
   "source": [
    "<img align=\"left\" width=\"1000\" src=\"https://raw.githubusercontent.com/chrislauren/amlallhands/master/automl%20overview%201.png\">"
   ]
  },
  {
   "cell_type": "markdown",
   "metadata": {},
   "source": [
    "### Import open source Python packages"
   ]
  },
  {
   "cell_type": "code",
   "execution_count": 2,
   "metadata": {},
   "outputs": [],
   "source": [
    "import logging\n",
    "import os\n",
    "import random\n",
    "import re\n",
    "import lightgbm\n",
    "import pandas as pd\n",
    "import numpy as np\n",
    "import json\n",
    "import csv\n",
    "from matplotlib import pyplot as plt\n",
    "from matplotlib.pyplot import imshow\n",
    "from sklearn import datasets\n",
    "from shutil import copy2"
   ]
  },
  {
   "cell_type": "markdown",
   "metadata": {},
   "source": [
    "### Import Azure Machine Learning Python SDK "
   ]
  },
  {
   "cell_type": "code",
   "execution_count": 8,
   "metadata": {},
   "outputs": [
    {
     "ename": "ModuleNotFoundError",
     "evalue": "No module named 'azureml.train.automl'",
     "output_type": "error",
     "traceback": [
      "\u001b[1;31m---------------------------------------------------------------------------\u001b[0m",
      "\u001b[1;31mModuleNotFoundError\u001b[0m                       Traceback (most recent call last)",
      "\u001b[1;32m<ipython-input-8-8500e3a8443f>\u001b[0m in \u001b[0;36m<module>\u001b[1;34m()\u001b[0m\n\u001b[0;32m      9\u001b[0m \u001b[1;32mfrom\u001b[0m \u001b[0mazureml\u001b[0m\u001b[1;33m.\u001b[0m\u001b[0mcore\u001b[0m\u001b[1;33m.\u001b[0m\u001b[0mimage\u001b[0m \u001b[1;32mimport\u001b[0m \u001b[0mImage\u001b[0m\u001b[1;33m\u001b[0m\u001b[0m\n\u001b[0;32m     10\u001b[0m \u001b[1;32mfrom\u001b[0m \u001b[0mazureml\u001b[0m\u001b[1;33m.\u001b[0m\u001b[0mcore\u001b[0m\u001b[1;33m.\u001b[0m\u001b[0mmodel\u001b[0m \u001b[1;32mimport\u001b[0m \u001b[0mModel\u001b[0m\u001b[1;33m\u001b[0m\u001b[0m\n\u001b[1;32m---> 11\u001b[1;33m \u001b[1;32mfrom\u001b[0m \u001b[0mazureml\u001b[0m\u001b[1;33m.\u001b[0m\u001b[0mtrain\u001b[0m\u001b[1;33m.\u001b[0m\u001b[0mautoml\u001b[0m \u001b[1;32mimport\u001b[0m \u001b[0mAutoMLConfig\u001b[0m\u001b[1;33m\u001b[0m\u001b[0m\n\u001b[0m\u001b[0;32m     12\u001b[0m \u001b[1;32mfrom\u001b[0m \u001b[0mazureml\u001b[0m\u001b[1;33m.\u001b[0m\u001b[0mtrain\u001b[0m\u001b[1;33m.\u001b[0m\u001b[0mautoml\u001b[0m\u001b[1;33m.\u001b[0m\u001b[0mrun\u001b[0m \u001b[1;32mimport\u001b[0m \u001b[0mAutoMLRun\u001b[0m\u001b[1;33m\u001b[0m\u001b[0m\n\u001b[0;32m     13\u001b[0m \u001b[1;32mfrom\u001b[0m \u001b[0mazureml\u001b[0m\u001b[1;33m.\u001b[0m\u001b[0mwidgets\u001b[0m \u001b[1;32mimport\u001b[0m \u001b[0mRunDetails\u001b[0m\u001b[1;33m\u001b[0m\u001b[0m\n",
      "\u001b[1;31mModuleNotFoundError\u001b[0m: No module named 'azureml.train.automl'"
     ]
    }
   ],
   "source": [
    "import azureml.core\n",
    "from azureml.core import Workspace\n",
    "from azureml.core.experiment import Experiment\n",
    "from azureml.core.workspace import Workspace\n",
    "from azureml.core.compute import AksCompute, ComputeTarget\n",
    "from azureml.core.compute import ComputeTarget, AmlCompute\n",
    "from azureml.core.compute_target import ComputeTargetException\n",
    "from azureml.core.webservice import Webservice, AksWebservice\n",
    "from azureml.core.image import Image\n",
    "from azureml.core.model import Model\n",
    "from azureml.train.automl import AutoMLConfig\n",
    "from azureml.train.automl.run import AutoMLRun\n",
    "from azureml.widgets import RunDetails"
   ]
  },
  {
   "cell_type": "code",
   "execution_count": 14,
   "metadata": {},
   "outputs": [],
   "source": [
    "import CdmModel\n",
    "from utils import read_from_adls_with_cdm_format, read_from_adls, generate_aad_token"
   ]
  },
  {
   "cell_type": "markdown",
   "metadata": {},
   "source": [
    "### Connect to Azure Workspace"
   ]
  },
  {
   "cell_type": "code",
   "execution_count": 9,
   "metadata": {},
   "outputs": [
    {
     "name": "stdout",
     "output_type": "stream",
     "text": [
      "Performing interactive authentication. Please follow the instructions on the terminal.\n"
     ]
    },
    {
     "name": "stderr",
     "output_type": "stream",
     "text": [
      "Note, we have launched a browser for you to login. For old experience with device code, use \"az login --use-device-code\"\n",
      "You have logged in. Now let us find all the subscriptions to which you have access...\n"
     ]
    },
    {
     "name": "stdout",
     "output_type": "stream",
     "text": [
      "Interactive authentication successfully completed.\n",
      "Wrote the config file config.json to: c:\\Users\\clauren\\Downloads\\ScottGu All-Hands\\connectedcar\\aml_config\\config.json\n",
      "Library configuration succeeded\n"
     ]
    }
   ],
   "source": [
    "try:\n",
    "    ws = Workspace(subscription_id = subscription_id, resource_group = resource_group, workspace_name = workspace_name)\n",
    "    ws.write_config()\n",
    "    print('Library configuration succeeded')\n",
    "except:\n",
    "    print('Workspace not found')"
   ]
  },
  {
   "cell_type": "markdown",
   "metadata": {},
   "source": [
    "### Create an Azure Machine Learning Experiment"
   ]
  },
  {
   "cell_type": "code",
   "execution_count": 10,
   "metadata": {},
   "outputs": [
    {
     "name": "stdout",
     "output_type": "stream",
     "text": [
      "Found the config file in: c:\\Users\\clauren\\Downloads\\ScottGu All-Hands\\connectedcar\\aml_config\\config.json\n"
     ]
    }
   ],
   "source": [
    "ws = Workspace.from_config()\n",
    "\n",
    "import os\n",
    "\n",
    "output = {}\n",
    "output['SDK version'] = azureml.core.VERSION\n",
    "output['Subscription ID'] = ws.subscription_id\n",
    "output['Workspace'] = ws.name\n",
    "output['Resource Group'] = ws.resource_group\n",
    "output['Location'] = ws.location\n",
    "output['Project Directory'] = project_folder\n",
    "pd.set_option('display.max_colwidth', -1)\n",
    "pd.DataFrame(data=output, index=['']).T\n",
    "\n",
    "from azureml.telemetry import set_diagnostics_collection\n",
    "set_diagnostics_collection(send_diagnostics=True)\n",
    "\n",
    "experiment = Experiment(ws, experiment_name)"
   ]
  },
  {
   "cell_type": "markdown",
   "metadata": {},
   "source": [
    "### Fetch data from Azure Data Lake using Common Data Model"
   ]
  },
  {
   "cell_type": "code",
   "execution_count": 17,
   "metadata": {},
   "outputs": [],
   "source": [
    "aad_token = generate_aad_token()\n",
    "model_data = read_from_adls(endpoint = model_url, auth = aad_token)\n",
    "model = CdmModel.Model.fromJson(model_data.json())\n",
    "\n",
    "train_data = read_from_adls_with_cdm_format(model.entities[0])"
   ]
  },
  {
   "cell_type": "code",
   "execution_count": 21,
   "metadata": {},
   "outputs": [
    {
     "data": {
      "text/html": [
       "<div>\n",
       "<style scoped>\n",
       "    .dataframe tbody tr th:only-of-type {\n",
       "        vertical-align: middle;\n",
       "    }\n",
       "\n",
       "    .dataframe tbody tr th {\n",
       "        vertical-align: top;\n",
       "    }\n",
       "\n",
       "    .dataframe thead th {\n",
       "        text-align: right;\n",
       "    }\n",
       "</style>\n",
       "<table border=\"1\" class=\"dataframe\">\n",
       "  <thead>\n",
       "    <tr style=\"text-align: right;\">\n",
       "      <th></th>\n",
       "      <th>Survival_In_Days</th>\n",
       "      <th>Province</th>\n",
       "      <th>Region</th>\n",
       "      <th>Trip_Length_Mean</th>\n",
       "      <th>Trip_Length_Sigma</th>\n",
       "      <th>Trips_Per_Day_Mean</th>\n",
       "      <th>Trips_Per_Day_Sigma</th>\n",
       "      <th>Battery_Rated_Cycles</th>\n",
       "      <th>Manufacture_Month</th>\n",
       "      <th>Manufacture_Year</th>\n",
       "      <th>...</th>\n",
       "      <th>Sensor_Reading_52</th>\n",
       "      <th>Sensor_Reading_53</th>\n",
       "      <th>Sensor_Reading_54</th>\n",
       "      <th>Sensor_Reading_55</th>\n",
       "      <th>Sensor_Reading_56</th>\n",
       "      <th>Sensor_Reading_57</th>\n",
       "      <th>Sensor_Reading_58</th>\n",
       "      <th>Sensor_Reading_59</th>\n",
       "      <th>Sensor_Reading_60</th>\n",
       "      <th>Sensor_Reading_61</th>\n",
       "    </tr>\n",
       "  </thead>\n",
       "  <tbody>\n",
       "    <tr>\n",
       "      <th>0</th>\n",
       "      <td>1283</td>\n",
       "      <td>Bretagne</td>\n",
       "      <td>West</td>\n",
       "      <td>18.10325</td>\n",
       "      <td>6.034416</td>\n",
       "      <td>4.733162</td>\n",
       "      <td>1.183291</td>\n",
       "      <td>275</td>\n",
       "      <td>M8</td>\n",
       "      <td>Y2010</td>\n",
       "      <td>...</td>\n",
       "      <td>16.418910</td>\n",
       "      <td>17.441310</td>\n",
       "      <td>24.71829</td>\n",
       "      <td>11.812310</td>\n",
       "      <td>19.437210</td>\n",
       "      <td>15.079740</td>\n",
       "      <td>16.982440</td>\n",
       "      <td>18.893610</td>\n",
       "      <td>13.59000</td>\n",
       "      <td>14.510940</td>\n",
       "    </tr>\n",
       "    <tr>\n",
       "      <th>1</th>\n",
       "      <td>1427</td>\n",
       "      <td>Occitanie</td>\n",
       "      <td>South</td>\n",
       "      <td>14.63707</td>\n",
       "      <td>4.879023</td>\n",
       "      <td>4.325950</td>\n",
       "      <td>1.081487</td>\n",
       "      <td>250</td>\n",
       "      <td>M8</td>\n",
       "      <td>Y2014</td>\n",
       "      <td>...</td>\n",
       "      <td>14.703280</td>\n",
       "      <td>16.154500</td>\n",
       "      <td>27.78955</td>\n",
       "      <td>22.292230</td>\n",
       "      <td>29.158610</td>\n",
       "      <td>21.739530</td>\n",
       "      <td>23.830780</td>\n",
       "      <td>19.480210</td>\n",
       "      <td>10.26412</td>\n",
       "      <td>18.009700</td>\n",
       "    </tr>\n",
       "    <tr>\n",
       "      <th>2</th>\n",
       "      <td>1436</td>\n",
       "      <td>Auvergne_Rhone_Alpes</td>\n",
       "      <td>South</td>\n",
       "      <td>14.50564</td>\n",
       "      <td>4.835215</td>\n",
       "      <td>4.418737</td>\n",
       "      <td>1.104684</td>\n",
       "      <td>250</td>\n",
       "      <td>M9</td>\n",
       "      <td>Y2018</td>\n",
       "      <td>...</td>\n",
       "      <td>22.389700</td>\n",
       "      <td>21.834420</td>\n",
       "      <td>28.74326</td>\n",
       "      <td>26.313940</td>\n",
       "      <td>15.589060</td>\n",
       "      <td>15.317560</td>\n",
       "      <td>19.613730</td>\n",
       "      <td>28.397800</td>\n",
       "      <td>19.80799</td>\n",
       "      <td>15.425770</td>\n",
       "    </tr>\n",
       "    <tr>\n",
       "      <th>3</th>\n",
       "      <td>894</td>\n",
       "      <td>Martinique</td>\n",
       "      <td>West</td>\n",
       "      <td>20.85052</td>\n",
       "      <td>6.950172</td>\n",
       "      <td>4.284968</td>\n",
       "      <td>1.071242</td>\n",
       "      <td>200</td>\n",
       "      <td>M10</td>\n",
       "      <td>Y2003</td>\n",
       "      <td>...</td>\n",
       "      <td>2.794836</td>\n",
       "      <td>13.993500</td>\n",
       "      <td>15.52458</td>\n",
       "      <td>6.298875</td>\n",
       "      <td>11.355190</td>\n",
       "      <td>14.396860</td>\n",
       "      <td>2.890394</td>\n",
       "      <td>6.362495</td>\n",
       "      <td>10.91607</td>\n",
       "      <td>10.004320</td>\n",
       "    </tr>\n",
       "    <tr>\n",
       "      <th>4</th>\n",
       "      <td>1539</td>\n",
       "      <td>Reunion</td>\n",
       "      <td>South</td>\n",
       "      <td>11.57959</td>\n",
       "      <td>3.859862</td>\n",
       "      <td>4.561532</td>\n",
       "      <td>1.140383</td>\n",
       "      <td>200</td>\n",
       "      <td>M10</td>\n",
       "      <td>Y2007</td>\n",
       "      <td>...</td>\n",
       "      <td>26.631860</td>\n",
       "      <td>26.116980</td>\n",
       "      <td>18.01190</td>\n",
       "      <td>25.257760</td>\n",
       "      <td>25.320780</td>\n",
       "      <td>26.894640</td>\n",
       "      <td>18.863220</td>\n",
       "      <td>25.744930</td>\n",
       "      <td>24.02772</td>\n",
       "      <td>23.657220</td>\n",
       "    </tr>\n",
       "    <tr>\n",
       "      <th>5</th>\n",
       "      <td>1872</td>\n",
       "      <td>Marseille</td>\n",
       "      <td>South</td>\n",
       "      <td>14.07098</td>\n",
       "      <td>4.690325</td>\n",
       "      <td>4.697100</td>\n",
       "      <td>1.174275</td>\n",
       "      <td>300</td>\n",
       "      <td>M11</td>\n",
       "      <td>Y2011</td>\n",
       "      <td>...</td>\n",
       "      <td>11.889280</td>\n",
       "      <td>7.358676</td>\n",
       "      <td>10.70027</td>\n",
       "      <td>8.218617</td>\n",
       "      <td>13.397930</td>\n",
       "      <td>2.973648</td>\n",
       "      <td>11.031080</td>\n",
       "      <td>3.532511</td>\n",
       "      <td>12.84172</td>\n",
       "      <td>8.153067</td>\n",
       "    </tr>\n",
       "    <tr>\n",
       "      <th>6</th>\n",
       "      <td>151</td>\n",
       "      <td>Ile_de_France</td>\n",
       "      <td>MidWest</td>\n",
       "      <td>13.38851</td>\n",
       "      <td>4.462836</td>\n",
       "      <td>4.539887</td>\n",
       "      <td>1.134972</td>\n",
       "      <td>300</td>\n",
       "      <td>M12</td>\n",
       "      <td>Y2015</td>\n",
       "      <td>...</td>\n",
       "      <td>-13.361990</td>\n",
       "      <td>12.716510</td>\n",
       "      <td>-25.99962</td>\n",
       "      <td>-0.855164</td>\n",
       "      <td>-19.726040</td>\n",
       "      <td>5.154581</td>\n",
       "      <td>-9.921854</td>\n",
       "      <td>-0.260530</td>\n",
       "      <td>-20.26094</td>\n",
       "      <td>6.349902</td>\n",
       "    </tr>\n",
       "    <tr>\n",
       "      <th>7</th>\n",
       "      <td>1975</td>\n",
       "      <td>Normandie</td>\n",
       "      <td>MidWest</td>\n",
       "      <td>16.71867</td>\n",
       "      <td>5.572891</td>\n",
       "      <td>4.641222</td>\n",
       "      <td>1.160305</td>\n",
       "      <td>275</td>\n",
       "      <td>M12</td>\n",
       "      <td>Y2000</td>\n",
       "      <td>...</td>\n",
       "      <td>21.916700</td>\n",
       "      <td>14.228060</td>\n",
       "      <td>11.37833</td>\n",
       "      <td>-0.157791</td>\n",
       "      <td>13.303480</td>\n",
       "      <td>7.164655</td>\n",
       "      <td>10.716000</td>\n",
       "      <td>4.709601</td>\n",
       "      <td>19.31674</td>\n",
       "      <td>-0.762613</td>\n",
       "    </tr>\n",
       "    <tr>\n",
       "      <th>8</th>\n",
       "      <td>1957</td>\n",
       "      <td>Paris</td>\n",
       "      <td>MidWest</td>\n",
       "      <td>12.28045</td>\n",
       "      <td>4.093483</td>\n",
       "      <td>4.417785</td>\n",
       "      <td>1.104446</td>\n",
       "      <td>275</td>\n",
       "      <td>M1</td>\n",
       "      <td>Y2005</td>\n",
       "      <td>...</td>\n",
       "      <td>-10.007310</td>\n",
       "      <td>5.053398</td>\n",
       "      <td>-12.77030</td>\n",
       "      <td>4.404034</td>\n",
       "      <td>-8.639040</td>\n",
       "      <td>3.357793</td>\n",
       "      <td>-12.641930</td>\n",
       "      <td>-0.040223</td>\n",
       "      <td>-11.43332</td>\n",
       "      <td>4.471225</td>\n",
       "    </tr>\n",
       "    <tr>\n",
       "      <th>9</th>\n",
       "      <td>1150</td>\n",
       "      <td>Corse</td>\n",
       "      <td>South</td>\n",
       "      <td>19.61572</td>\n",
       "      <td>6.538573</td>\n",
       "      <td>4.318250</td>\n",
       "      <td>1.079563</td>\n",
       "      <td>250</td>\n",
       "      <td>M2</td>\n",
       "      <td>Y2009</td>\n",
       "      <td>...</td>\n",
       "      <td>17.566970</td>\n",
       "      <td>0.334354</td>\n",
       "      <td>11.38173</td>\n",
       "      <td>-9.591447</td>\n",
       "      <td>9.592852</td>\n",
       "      <td>-2.911261</td>\n",
       "      <td>8.209939</td>\n",
       "      <td>-2.191684</td>\n",
       "      <td>12.87396</td>\n",
       "      <td>-3.348420</td>\n",
       "    </tr>\n",
       "  </tbody>\n",
       "</table>\n",
       "<p>10 rows × 74 columns</p>\n",
       "</div>"
      ],
      "text/plain": [
       "   Survival_In_Days              Province   Region  Trip_Length_Mean  \\\n",
       "0  1283              Bretagne              West     18.10325           \n",
       "1  1427              Occitanie             South    14.63707           \n",
       "2  1436              Auvergne_Rhone_Alpes  South    14.50564           \n",
       "3  894               Martinique            West     20.85052           \n",
       "4  1539              Reunion               South    11.57959           \n",
       "5  1872              Marseille             South    14.07098           \n",
       "6  151               Ile_de_France         MidWest  13.38851           \n",
       "7  1975              Normandie             MidWest  16.71867           \n",
       "8  1957              Paris                 MidWest  12.28045           \n",
       "9  1150              Corse                 South    19.61572           \n",
       "\n",
       "   Trip_Length_Sigma  Trips_Per_Day_Mean  Trips_Per_Day_Sigma  \\\n",
       "0  6.034416           4.733162            1.183291              \n",
       "1  4.879023           4.325950            1.081487              \n",
       "2  4.835215           4.418737            1.104684              \n",
       "3  6.950172           4.284968            1.071242              \n",
       "4  3.859862           4.561532            1.140383              \n",
       "5  4.690325           4.697100            1.174275              \n",
       "6  4.462836           4.539887            1.134972              \n",
       "7  5.572891           4.641222            1.160305              \n",
       "8  4.093483           4.417785            1.104446              \n",
       "9  6.538573           4.318250            1.079563              \n",
       "\n",
       "   Battery_Rated_Cycles Manufacture_Month Manufacture_Year        ...          \\\n",
       "0  275                   M8                Y2010                  ...           \n",
       "1  250                   M8                Y2014                  ...           \n",
       "2  250                   M9                Y2018                  ...           \n",
       "3  200                   M10               Y2003                  ...           \n",
       "4  200                   M10               Y2007                  ...           \n",
       "5  300                   M11               Y2011                  ...           \n",
       "6  300                   M12               Y2015                  ...           \n",
       "7  275                   M12               Y2000                  ...           \n",
       "8  275                   M1                Y2005                  ...           \n",
       "9  250                   M2                Y2009                  ...           \n",
       "\n",
       "   Sensor_Reading_52  Sensor_Reading_53  Sensor_Reading_54  Sensor_Reading_55  \\\n",
       "0  16.418910          17.441310          24.71829           11.812310           \n",
       "1  14.703280          16.154500          27.78955           22.292230           \n",
       "2  22.389700          21.834420          28.74326           26.313940           \n",
       "3  2.794836           13.993500          15.52458           6.298875            \n",
       "4  26.631860          26.116980          18.01190           25.257760           \n",
       "5  11.889280          7.358676           10.70027           8.218617            \n",
       "6 -13.361990          12.716510         -25.99962          -0.855164            \n",
       "7  21.916700          14.228060          11.37833          -0.157791            \n",
       "8 -10.007310          5.053398          -12.77030           4.404034            \n",
       "9  17.566970          0.334354           11.38173          -9.591447            \n",
       "\n",
       "   Sensor_Reading_56  Sensor_Reading_57  Sensor_Reading_58  Sensor_Reading_59  \\\n",
       "0  19.437210          15.079740          16.982440          18.893610           \n",
       "1  29.158610          21.739530          23.830780          19.480210           \n",
       "2  15.589060          15.317560          19.613730          28.397800           \n",
       "3  11.355190          14.396860          2.890394           6.362495            \n",
       "4  25.320780          26.894640          18.863220          25.744930           \n",
       "5  13.397930          2.973648           11.031080          3.532511            \n",
       "6 -19.726040          5.154581          -9.921854          -0.260530            \n",
       "7  13.303480          7.164655           10.716000          4.709601            \n",
       "8 -8.639040           3.357793          -12.641930         -0.040223            \n",
       "9  9.592852          -2.911261           8.209939          -2.191684            \n",
       "\n",
       "   Sensor_Reading_60  Sensor_Reading_61  \n",
       "0  13.59000           14.510940          \n",
       "1  10.26412           18.009700          \n",
       "2  19.80799           15.425770          \n",
       "3  10.91607           10.004320          \n",
       "4  24.02772           23.657220          \n",
       "5  12.84172           8.153067           \n",
       "6 -20.26094           6.349902           \n",
       "7  19.31674          -0.762613           \n",
       "8 -11.43332           4.471225           \n",
       "9  12.87396          -3.348420           \n",
       "\n",
       "[10 rows x 74 columns]"
      ]
     },
     "execution_count": 21,
     "metadata": {},
     "output_type": "execute_result"
    }
   ],
   "source": [
    "train_data.head(10)"
   ]
  },
  {
   "cell_type": "markdown",
   "metadata": {},
   "source": [
    "### Create AML Compute Cluster"
   ]
  },
  {
   "cell_type": "code",
   "execution_count": 11,
   "metadata": {},
   "outputs": [
    {
     "name": "stdout",
     "output_type": "stream",
     "text": [
      "Found existing compute target.\n"
     ]
    }
   ],
   "source": [
    "### Create AML CPU Compute Cluster\n",
    "\n",
    "try:\n",
    "    compute_target = ComputeTarget(workspace=ws, name=cluster_name)\n",
    "    print('Found existing compute target.')\n",
    "except ComputeTargetException:\n",
    "    print('Creating a new compute target...')\n",
    "    compute_config = AmlCompute.provisioning_configuration(vm_size='STANDARD_D12_V2',\n",
    "                                                           max_nodes=4)\n",
    "\n",
    "    # create the cluster\n",
    "    compute_target = ComputeTarget.create(ws, cluster_name, compute_config)\n",
    "\n",
    "    compute_target.wait_for_completion(show_output=True)"
   ]
  },
  {
   "cell_type": "markdown",
   "metadata": {},
   "source": [
    "### Create Azure Machine Learning Automated ML config"
   ]
  },
  {
   "cell_type": "code",
   "execution_count": 26,
   "metadata": {},
   "outputs": [],
   "source": [
    "automl_config = AutoMLConfig(task = 'regression',\n",
    "                             iterations = 20,\n",
    "                             iteration_timeout_minutes = 10, \n",
    "                             max_cores_per_iteration = 10,\n",
    "                             preprocess = True,\n",
    "                             primary_metric = 'normalized_root_mean_squared_error',\n",
    "                             n_cross_validations = 5,\n",
    "                             debug_log = 'automl.log',\n",
    "                             verbosity = logging.DEBUG,\n",
    "                             data_script = project_folder + \"/get_data.py\",\n",
    "                             compute_target = compute_target,\n",
    "                             #blacklist_models = \"\",\n",
    "                             path = project_folder)"
   ]
  },
  {
   "cell_type": "markdown",
   "metadata": {},
   "source": [
    "<img align=\"left\" width=\"1000\" src=\"https://raw.githubusercontent.com/chrislauren/amlallhands/master/automl%20overview.png\">"
   ]
  },
  {
   "cell_type": "markdown",
   "metadata": {},
   "source": [
    "### Run our Experiment on AML Compute"
   ]
  },
  {
   "cell_type": "code",
   "execution_count": 27,
   "metadata": {},
   "outputs": [],
   "source": [
    "remote_run = experiment.submit(automl_config, show_output=False)"
   ]
  },
  {
   "cell_type": "markdown",
   "metadata": {},
   "source": [
    "### Display Automated ML Run Details"
   ]
  },
  {
   "cell_type": "code",
   "execution_count": 48,
   "metadata": {},
   "outputs": [],
   "source": [
    "experiment = Experiment(ws, experiment_name)\n",
    "ml_run = AutoMLRun(experiment=experiment, run_id=run_id)"
   ]
  },
  {
   "cell_type": "code",
   "execution_count": 49,
   "metadata": {},
   "outputs": [
    {
     "data": {
      "application/vnd.jupyter.widget-view+json": {
       "model_id": "5f4d4e30ed704c4894ae8d170602448a",
       "version_major": 2,
       "version_minor": 0
      },
      "text/plain": [
       "_AutoMLWidget(widget_settings={'childWidgetDisplay': 'popup', 'send_telemetry': True, 'log_level': 'INFO', 'sd…"
      ]
     },
     "metadata": {},
     "output_type": "display_data"
    }
   ],
   "source": [
    "RunDetails(ml_run).show() "
   ]
  },
  {
   "cell_type": "markdown",
   "metadata": {},
   "source": [
    "### Show best run and model"
   ]
  },
  {
   "cell_type": "code",
   "execution_count": null,
   "metadata": {},
   "outputs": [],
   "source": [
    "best_run, fitted_model = ml_run.get_output()\n"
   ]
  },
  {
   "cell_type": "markdown",
   "metadata": {},
   "source": [
    "### Deploy the Model to AKS"
   ]
  },
  {
   "cell_type": "markdown",
   "metadata": {},
   "source": [
    "<img align=\"left\" width=\"1000\" src=\"https://raw.githubusercontent.com/chrislauren/amlallhands/master/automl%20overview%202.png\">"
   ]
  },
  {
   "cell_type": "code",
   "execution_count": null,
   "metadata": {},
   "outputs": [],
   "source": [
    "# fetch the best model\n",
    "best_run.download_file(\"outputs/model.pkl\",\n",
    "                       output_file_path = \"./model.pkl\")"
   ]
  },
  {
   "cell_type": "code",
   "execution_count": null,
   "metadata": {},
   "outputs": [],
   "source": [
    "# register the model for deployment\n",
    "model = Model.register(model_path = \"model.pkl\",\n",
    "                       model_name = \"model.pkl\",\n",
    "                       tags = {'area': \"auto\", 'type': \"regression\"},\n",
    "                       description = \"Contoso Auto model to predict battery failure\",\n",
    "                       workspace = ws)\n",
    "\n",
    "print(model.name, model.description, model.version)"
   ]
  },
  {
   "cell_type": "markdown",
   "metadata": {},
   "source": [
    "### Create Container Image"
   ]
  },
  {
   "cell_type": "code",
   "execution_count": null,
   "metadata": {},
   "outputs": [],
   "source": [
    "from azureml.core.image import ContainerImage\n",
    "\n",
    "image_config = ContainerImage.image_configuration(execution_script = \"score.py\",\n",
    "                                                  runtime = \"python\",\n",
    "                                                  conda_file = \"myenv.yml\",\n",
    "                                                  schema_file = \"schema.json\",\n",
    "                                                  description = \"Image with regression model\",\n",
    "                                                  tags = {'area': \"auto\", 'type': \"regression\"}\n",
    "                                                 )\n",
    "\n",
    "image = ContainerImage.create(name = \"contosoimage\",\n",
    "                              # this is the model object\n",
    "                              models = [model],\n",
    "                              image_config = image_config,\n",
    "                              workspace = ws)\n",
    "\n",
    "image.wait_for_creation(show_output = True)"
   ]
  },
  {
   "cell_type": "code",
   "execution_count": null,
   "metadata": {},
   "outputs": [],
   "source": [
    "print(model.name, model.description, model.version)"
   ]
  },
  {
   "cell_type": "markdown",
   "metadata": {},
   "source": [
    "### Create/connect to the Kubernetes compute cluster"
   ]
  },
  {
   "cell_type": "code",
   "execution_count": null,
   "metadata": {},
   "outputs": [],
   "source": [
    "# Use the default configuration (can also provide parameters to customize)\n",
    "prov_config = AksCompute.provisioning_configuration(location='eastus2')\n",
    "\n",
    "# Create the cluster\n",
    "aks_target = ComputeTarget.create(workspace = ws, \n",
    "                          name = aks_cluster_name, \n",
    "                          provisioning_configuration = prov_config)\n",
    "\n",
    "aks_target.wait_for_completion(True)"
   ]
  },
  {
   "cell_type": "markdown",
   "metadata": {},
   "source": [
    "### Deploy the model to Kubernetes"
   ]
  },
  {
   "cell_type": "code",
   "execution_count": null,
   "metadata": {},
   "outputs": [],
   "source": [
    "aks_config = AksWebservice.deploy_configuration(collect_model_data=True, enable_app_insights=True)\n",
    "aks_service = Webservice.deploy_from_image(workspace = ws, \n",
    "                                           name = aks_service_name,\n",
    "                                           image = image,\n",
    "                                           deployment_config = aks_config,\n",
    "                                           deployment_target = aks_target\n",
    "                                           )\n",
    "aks_service.wait_for_deployment(show_output = True)\n",
    "print(aks_service.state)"
   ]
  },
  {
   "cell_type": "markdown",
   "metadata": {},
   "source": [
    "### Connect to the deployed webservice"
   ]
  },
  {
   "cell_type": "code",
   "execution_count": 28,
   "metadata": {},
   "outputs": [],
   "source": [
    "aks_service = Webservice(ws,aks_service_name)"
   ]
  },
  {
   "cell_type": "markdown",
   "metadata": {},
   "source": [
    "### Prepare production data and use the service\n",
    "Note the call to aks_service.run() to test the model"
   ]
  },
  {
   "cell_type": "code",
   "execution_count": 29,
   "metadata": {},
   "outputs": [],
   "source": [
    "import json\n",
    "import csv\n",
    "\n",
    "# fetch the test data\n",
    "aad_token = generate_aad_token()\n",
    "model_data = read_from_adls(endpoint = model_url,\n",
    "                            auth = aad_token)\n",
    "model = CdmModel.Model.fromJson(model_data.json())\n",
    "\n",
    "test_data = read_from_adls_with_cdm_format(model.entities[1])\n",
    "\n",
    "# prepare the test data\n",
    "test_df = test_data.drop(columns=[\"Car_ID\", \"Battery_Age\"])\n",
    "    \n",
    "# run the prediction\n",
    "results = []\n",
    "for index, row in test_df.iterrows():\n",
    "    input_data = bytes(row.to_json(), encoding = 'utf8')\n",
    "    prediction_data = aks_service.run(input_data = input_data)\n",
    "    results.append(prediction_data[\"result\"])"
   ]
  },
  {
   "cell_type": "markdown",
   "metadata": {},
   "source": [
    "### Take the prediction and calculate which batteries need testing"
   ]
  },
  {
   "cell_type": "code",
   "execution_count": 39,
   "metadata": {},
   "outputs": [
    {
     "name": "stdout",
     "output_type": "stream",
     "text": [
      "Percentage of cars that need batteries testing: 30.0%\n"
     ]
    }
   ],
   "source": [
    "result_columns = ['Car_ID','Predicted_Days_Remaining', 'Index']\n",
    "result_df = pd.DataFrame(columns=result_columns)\n",
    "\n",
    "for i in range(len(results)):\n",
    "    car_ID = test_data['Car_ID'].loc[i]\n",
    "    days_remaining = abs(results[i] - test_data['Battery_Age'].loc[i])\n",
    "    if days_remaining < 400:\n",
    "        car_values = [car_ID, days_remaining, i]\n",
    "        result_df.loc[result_df.shape[0],:] = car_values\n",
    "\n",
    "print('Percentage of cars that need batteries testing: {}%'.format(result_df.shape[0] / len(results) * 100))"
   ]
  },
  {
   "cell_type": "markdown",
   "metadata": {},
   "source": [
    "### Show example prediction data"
   ]
  },
  {
   "cell_type": "code",
   "execution_count": 40,
   "metadata": {},
   "outputs": [
    {
     "data": {
      "text/html": [
       "<div>\n",
       "<style scoped>\n",
       "    .dataframe tbody tr th:only-of-type {\n",
       "        vertical-align: middle;\n",
       "    }\n",
       "\n",
       "    .dataframe tbody tr th {\n",
       "        vertical-align: top;\n",
       "    }\n",
       "\n",
       "    .dataframe thead th {\n",
       "        text-align: right;\n",
       "    }\n",
       "</style>\n",
       "<table border=\"1\" class=\"dataframe\">\n",
       "  <thead>\n",
       "    <tr style=\"text-align: right;\">\n",
       "      <th></th>\n",
       "      <th>Car_ID</th>\n",
       "      <th>Predicted_Days_Remaining</th>\n",
       "      <th>Index</th>\n",
       "    </tr>\n",
       "  </thead>\n",
       "  <tbody>\n",
       "    <tr>\n",
       "      <th>0</th>\n",
       "      <td>935039</td>\n",
       "      <td>359.935</td>\n",
       "      <td>0</td>\n",
       "    </tr>\n",
       "    <tr>\n",
       "      <th>1</th>\n",
       "      <td>707595</td>\n",
       "      <td>338.07</td>\n",
       "      <td>1</td>\n",
       "    </tr>\n",
       "    <tr>\n",
       "      <th>2</th>\n",
       "      <td>252240</td>\n",
       "      <td>347.662</td>\n",
       "      <td>7</td>\n",
       "    </tr>\n",
       "  </tbody>\n",
       "</table>\n",
       "</div>"
      ],
      "text/plain": [
       "   Car_ID Predicted_Days_Remaining Index\n",
       "0  935039  359.935                  0   \n",
       "1  707595  338.07                   1   \n",
       "2  252240  347.662                  7   "
      ]
     },
     "execution_count": 40,
     "metadata": {},
     "output_type": "execute_result"
    }
   ],
   "source": [
    "result_df"
   ]
  },
  {
   "cell_type": "code",
   "execution_count": null,
   "metadata": {},
   "outputs": [],
   "source": []
  }
 ],
 "metadata": {
  "kernelspec": {
   "display_name": "Python [conda env:myenv]",
   "language": "python",
   "name": "conda-env-myenv-py"
  },
  "language_info": {
   "codemirror_mode": {
    "name": "ipython",
    "version": 3
   },
   "file_extension": ".py",
   "mimetype": "text/x-python",
   "name": "python",
   "nbconvert_exporter": "python",
   "pygments_lexer": "ipython3",
   "version": "3.6.6"
  }
 },
 "nbformat": 4,
 "nbformat_minor": 2
}
